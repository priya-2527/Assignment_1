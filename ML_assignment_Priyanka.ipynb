{
 "cells": [
  {
   "cell_type": "markdown",
   "id": "a7be0e49",
   "metadata": {},
   "source": [
    "# ASSIGNMENT"
   ]
  },
  {
   "cell_type": "markdown",
   "id": "59f89095",
   "metadata": {},
   "source": [
    "1.Write a python function which should be capable of finding the factorial of any given number as an\n",
    "argument.\n"
   ]
  },
  {
   "cell_type": "code",
   "execution_count": 1,
   "id": "4a035b07",
   "metadata": {},
   "outputs": [],
   "source": [
    "def factorial(n):\n",
    "    if n==0:\n",
    "        return -1\n",
    "    prd=1\n",
    "    for i in range(1,n+1):\n",
    "        prd=prd*i\n",
    "    print(\"The factorial is \",prd)\n"
   ]
  },
  {
   "cell_type": "code",
   "execution_count": 2,
   "id": "ab96ac8b",
   "metadata": {},
   "outputs": [
    {
     "name": "stdout",
     "output_type": "stream",
     "text": [
      "The factorial is  120\n"
     ]
    }
   ],
   "source": [
    "factorial(5)"
   ]
  },
  {
   "cell_type": "markdown",
   "id": "94924fe6",
   "metadata": {},
   "source": [
    "2.Luke Skywalker has family and friends. Help him remind them who is who. Given a string with a\n",
    "name, return the relation of that person to Luke.\n"
   ]
  },
  {
   "cell_type": "code",
   "execution_count": 3,
   "id": "764623c2",
   "metadata": {},
   "outputs": [],
   "source": [
    "def family(name):\n",
    "    \"\"\"Enter the family members name as argument\"\"\"\n",
    "    if name==\"Darth Vader\":\n",
    "        print(\"hey luke, this is your father\")\n",
    "    elif name==\"Leia\":\n",
    "        print(\"hey luke,this is your sister\")\n",
    "    elif name==\"Han\":\n",
    "        print(\"hey luke,this is your brother in law\")\n",
    "    elif name==\"R2D2\":\n",
    "        print(\"hey luke,this is droid\")\n",
    "    else:\n",
    "        print(\"hey luke you have entered a wrong name\")"
   ]
  },
  {
   "cell_type": "code",
   "execution_count": 4,
   "id": "b54b8768",
   "metadata": {},
   "outputs": [
    {
     "name": "stdout",
     "output_type": "stream",
     "text": [
      "hey luke,this is your brother in law\n"
     ]
    }
   ],
   "source": [
    "family(\"Han\")"
   ]
  },
  {
   "cell_type": "markdown",
   "id": "d9642cc3",
   "metadata": {},
   "source": [
    "3. Create a function which takes a number as its argument and return the number of digits in it. Use\n",
    "of len function is not allowed. For example for 5 it should return 1, for 32 it should return 2 and 123 ,\n",
    "3 should be returned and so on."
   ]
  },
  {
   "cell_type": "code",
   "execution_count": 5,
   "id": "d0ccf53e",
   "metadata": {},
   "outputs": [],
   "source": [
    "def len_string(name):\n",
    "    temp=0\n",
    "    for i in name:\n",
    "        temp=temp+1\n",
    "    print(temp)\n"
   ]
  },
  {
   "cell_type": "code",
   "execution_count": 6,
   "id": "faa01b12",
   "metadata": {},
   "outputs": [
    {
     "name": "stdout",
     "output_type": "stream",
     "text": [
      "8\n"
     ]
    }
   ],
   "source": [
    "len_string(\"priyanka\")"
   ]
  },
  {
   "cell_type": "markdown",
   "id": "8caeced8",
   "metadata": {},
   "source": [
    "4. Write a function which takes a number as argument suppose 5 and gives results as multiplication\n",
    "of factorial of each positive number less than or equal to the number given. i.e !5*!4*!3*!2*!1 =34560.\n"
   ]
  },
  {
   "cell_type": "code",
   "execution_count": 7,
   "id": "6ac6cfb0",
   "metadata": {},
   "outputs": [],
   "source": [
    "def factorial(n):\n",
    "    if n==0:\n",
    "        return -1\n",
    "    prd=1\n",
    "    for i in range(1,n+1):\n",
    "      for j in range(1,i+1):\n",
    "        prd=prd*j\n",
    "    print(\"The factorial is \",prd)"
   ]
  },
  {
   "cell_type": "code",
   "execution_count": 8,
   "id": "9b3ff1ea",
   "metadata": {},
   "outputs": [
    {
     "name": "stdout",
     "output_type": "stream",
     "text": [
      "The factorial is  34560\n"
     ]
    }
   ],
   "source": [
    "factorial(5)"
   ]
  },
  {
   "cell_type": "markdown",
   "id": "3f054b76",
   "metadata": {},
   "source": [
    "5. Write a function which takes any number of arguments from a user and return the result which\n",
    "should be output of a2 + b2+ c2+… if a , b ,c are numbers supplied ..i.e if 1,2,3 are supplied then result\n",
    "returned should be 14. But user may supply any number of inputs so make the function to adapt to\n",
    "that."
   ]
  },
  {
   "cell_type": "code",
   "execution_count": 10,
   "id": "0a1cb789",
   "metadata": {},
   "outputs": [],
   "source": [
    "def my_func(*args):\n",
    "  ans=0\n",
    "  for i in args:\n",
    "    ans=ans+i**2\n",
    "  print(\"hey your answer is\",ans)"
   ]
  },
  {
   "cell_type": "code",
   "execution_count": 11,
   "id": "f9f5bdf3",
   "metadata": {},
   "outputs": [
    {
     "name": "stdout",
     "output_type": "stream",
     "text": [
      "hey your answer is 14\n"
     ]
    }
   ],
   "source": [
    "my_func(1,2,3)"
   ]
  },
  {
   "cell_type": "markdown",
   "id": "8ac610f7",
   "metadata": {},
   "source": [
    "6.Write a function which accepts 3 arguments from the user.1 .number 1, 2. Number2 and 3. An\n",
    "operation. The operation supported should be +, -, *, and /. The function should return the result of\n",
    "given operation. For example arguments are 3,2,+ then result returned should be 5"
   ]
  },
  {
   "cell_type": "code",
   "execution_count": 12,
   "id": "52a4a145",
   "metadata": {},
   "outputs": [],
   "source": [
    "def calc(num1,num2,op):\n",
    "  if op==\"+\":\n",
    "    ans=num1+num2\n",
    "    print(\"hey your answer is\",ans)\n",
    "  elif op==\"-\":\n",
    "    ans=num1-num2\n",
    "    print(\"hey your answer is\",ans)\n",
    "  elif op==\"*\":\n",
    "    ans=num1*num2\n",
    "    print(\"hey your answer is\",ans)\n",
    "  elif op==\"/\":\n",
    "    ans=num1/num2\n",
    "    print(\"hey your answer is\",ans)\n",
    "  else:\n",
    "    print(\"hey this operation is not accepted\")\n",
    " "
   ]
  },
  {
   "cell_type": "code",
   "execution_count": 13,
   "id": "a6fd37be",
   "metadata": {},
   "outputs": [
    {
     "name": "stdout",
     "output_type": "stream",
     "text": [
      "hey your answer is 6\n"
     ]
    }
   ],
   "source": [
    "calc( 2,3,\"*\")"
   ]
  },
  {
   "cell_type": "markdown",
   "id": "997ac221",
   "metadata": {},
   "source": [
    "7. Write a function which takes an argument which should be a numeric +ve integer. Depending on\n",
    "the input supplied you have to print “I CAN”, “I WILL”. Suppose some one enters argument as 1 then\n",
    "only “I CAN” should be printed. But if some one enters 2 then first “I CAN” should be printed then “I\n",
    "WILL”. And if someone enters 3 then following should be printed in corresponding order: “I CAN”, “I\n",
    "WILL”, “I CAN” and so on for any numbers entered.\n"
   ]
  },
  {
   "cell_type": "code",
   "execution_count": 14,
   "id": "638789bd",
   "metadata": {},
   "outputs": [],
   "source": [
    "def ican_iwill(n):\n",
    "  if n<=0:\n",
    "        return -1\n",
    "  list2=[]\n",
    "  list1=[\"I CAN\",\"I WILL\"]\n",
    "  for i in range(n):\n",
    "    for j in list1:\n",
    "      list2.append(j)\n",
    "  ans=list2[0:n]\n",
    "  for k in ans:\n",
    "    print(k)"
   ]
  },
  {
   "cell_type": "code",
   "execution_count": 15,
   "id": "47736176",
   "metadata": {},
   "outputs": [
    {
     "name": "stdout",
     "output_type": "stream",
     "text": [
      "I CAN\n",
      "I WILL\n",
      "I CAN\n",
      "I WILL\n",
      "I CAN\n"
     ]
    }
   ],
   "source": [
    "ican_iwill(5)"
   ]
  },
  {
   "cell_type": "markdown",
   "id": "2f4c5e3f",
   "metadata": {},
   "source": [
    "8. We have been given a list of whole numbers which represents the color of each gloves, determine\n",
    "how many pairs of gloves with matching colors there are. For example, there are 7 gloves with\n",
    "colors [1, 2, 1, 2, 1, 3, 2]. There is one pair of color 1 and one of color 2. There are three odd gloves\n",
    "left, one of each color. The number of pairs is 2. Create a function that returns an integer representing\n",
    "the number of matching pairs of gloves that are available."
   ]
  },
  {
   "cell_type": "code",
   "execution_count": 18,
   "id": "b72b04a2",
   "metadata": {},
   "outputs": [],
   "source": [
    "def glove(*args):\n",
    "  list1=[]\n",
    "  pair=[]\n",
    "  result=0\n",
    "  for i in args:\n",
    "    list1.append(i)\n",
    "    set1=set(list1)\n",
    "    list2=list(set1)\n",
    "  for j in list2:\n",
    "    count1=list1.count(j)\n",
    "    ans=count1/2\n",
    "    pair.append(ans)\n",
    "  for k in pair:\n",
    "    if k>=1:\n",
    "      result=result+k\n",
    "  print(int(result))"
   ]
  },
  {
   "cell_type": "code",
   "execution_count": 19,
   "id": "17eb2c80",
   "metadata": {},
   "outputs": [
    {
     "name": "stdout",
     "output_type": "stream",
     "text": [
      "4\n"
     ]
    }
   ],
   "source": [
    "gloves(1,8,9,4,7,1,9,4,8,4,4)"
   ]
  },
  {
   "cell_type": "markdown",
   "id": "72a35458",
   "metadata": {},
   "source": [
    "9. Write a function that returns True if two arrays, when combined, form a consecutive sequence. A\n",
    "consecutive sequence is a sequence without any gaps in the integers, e.g. 1, 2, 3, 4, 5 is a\n",
    "consecutive sequence, but 1, 2, 4, 5 is not. Notes"
   ]
  },
  {
   "cell_type": "code",
   "execution_count": 21,
   "id": "544ee715",
   "metadata": {},
   "outputs": [],
   "source": [
    "def list_add(*main_lis):\n",
    "  list1=[]\n",
    "  comp=[]\n",
    "  main=main_lis[0]+main_lis[1]\n",
    "  main_list=sorted(main)\n",
    "  k=set(main_list)\n",
    "  for i in k:\n",
    "    list1.append(i)\n",
    "    l=list1[0]\n",
    "    l2=list1[-1]\n",
    "  for j in range(l,l2+1):\n",
    "    comp.append(j)\n",
    "  if main_list==comp:\n",
    "    print(\"true\")\n",
    "  else:\n",
    "    print(\"false\")\n",
    "    "
   ]
  },
  {
   "cell_type": "code",
   "execution_count": 22,
   "id": "0b66bd66",
   "metadata": {},
   "outputs": [
    {
     "name": "stdout",
     "output_type": "stream",
     "text": [
      "false\n"
     ]
    }
   ],
   "source": [
    "list_add([1,5,3],[2,7,6,8])"
   ]
  },
  {
   "cell_type": "markdown",
   "id": "4b273802",
   "metadata": {},
   "source": [
    "10. You work for a manufacturer, and have been asked to calculate the total profit made on the sales\n",
    "of a product. You are given a dictionary containing the cost price per unit (in dollars), sell price per\n",
    "unit (in dollars), and the starting inventory. Return the total profit made, rounded to the nearest\n",
    "dollar"
   ]
  },
  {
   "cell_type": "code",
   "execution_count": 23,
   "id": "fe151510",
   "metadata": {},
   "outputs": [],
   "source": [
    "def profit(info):\n",
    "\n",
    "    total_cost = info[\"cost_price\"] \n",
    "    total_sales = info[\"sell_price\"] \n",
    "    inven=info[\"inventory\"]\n",
    "    diff = total_sales - total_cost\n",
    "    profit=diff*inven\n",
    "\n",
    "    return int(round(profit))\n",
    "  "
   ]
  },
  {
   "cell_type": "code",
   "execution_count": 24,
   "id": "7392d97c",
   "metadata": {},
   "outputs": [
    {
     "data": {
      "text/plain": [
       "14796"
      ]
     },
     "execution_count": 24,
     "metadata": {},
     "output_type": "execute_result"
    }
   ],
   "source": [
    "profit({\"cost_price\": 32.67,\"sell_price\": 45.00,\"inventory\": 1200\n",
    "})"
   ]
  },
  {
   "cell_type": "code",
   "execution_count": null,
   "id": "cee67452",
   "metadata": {},
   "outputs": [],
   "source": [
    "##############################################################################END###################################################################"
   ]
  }
 ],
 "metadata": {
  "kernelspec": {
   "display_name": "Python 3",
   "language": "python",
   "name": "python3"
  },
  "language_info": {
   "codemirror_mode": {
    "name": "ipython",
    "version": 3
   },
   "file_extension": ".py",
   "mimetype": "text/x-python",
   "name": "python",
   "nbconvert_exporter": "python",
   "pygments_lexer": "ipython3",
   "version": "3.8.8"
  }
 },
 "nbformat": 4,
 "nbformat_minor": 5
}
